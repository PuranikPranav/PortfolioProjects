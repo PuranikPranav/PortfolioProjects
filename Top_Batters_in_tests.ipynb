{
  "nbformat": 4,
  "nbformat_minor": 0,
  "metadata": {
    "colab": {
      "provenance": [],
      "collapsed_sections": []
    },
    "kernelspec": {
      "name": "python3",
      "display_name": "Python 3"
    },
    "language_info": {
      "name": "python"
    }
  },
  "cells": [
    {
      "cell_type": "code",
      "execution_count": 70,
      "metadata": {
        "id": "iOdnDt1BT_u3"
      },
      "outputs": [],
      "source": []
    },
    {
      "cell_type": "markdown",
      "source": [
        "# Web Scraping Project\n",
        "\n",
        "### Problem Statement - Scrape the data from espncricnifo website consisting of top batters in the history of test cricket in terms of runs scored in their careers\n",
        "\n",
        "\n",
        "### Process:\n",
        "\n",
        "1.   Download the webpage having url as - 'https://stats.espncricinfo.com/ci/content/records/223646.html' using the \"requests\" library\n",
        "\n",
        "2.   Create a soup object to parse through the gathered text\n",
        "\n",
        "3.   Perform analysis on the object using python language and other libraries\n",
        "\n",
        "4.   Load the data into an Excel file using the \"openpyxl\" library\n",
        "\n",
        "\n",
        "\n",
        "\n"
      ],
      "metadata": {
        "id": "YXueLb02knL7"
      }
    },
    {
      "cell_type": "code",
      "source": [
        "##Import the required libraries\n",
        "\n",
        "import requests\n",
        "import bs4\n",
        "import lxml\n",
        "import openpyxl"
      ],
      "metadata": {
        "id": "2EcoFES5kgTZ"
      },
      "execution_count": 71,
      "outputs": []
    },
    {
      "cell_type": "code",
      "source": [
        "##This is the URL of the target webpage\n",
        "\n",
        "url = 'https://stats.espncricinfo.com/ci/content/records/223646.html'"
      ],
      "metadata": {
        "id": "pfaan5x5UHwc"
      },
      "execution_count": 72,
      "outputs": []
    },
    {
      "cell_type": "code",
      "source": [
        "##Creating an Excel Workbook to load the scraped data\n",
        "\n",
        "excel = openpyxl.Workbook()\n",
        "sheet = excel.active\n",
        "sheet.title = \"Top Batters in Test Cricket\"\n",
        "sheet.append(['Batter Name','Total Matches','Total Runs','Highest Score','Average','Total Centuries','Total Half Centuries'])"
      ],
      "metadata": {
        "id": "kQLJJ3j9icOI"
      },
      "execution_count": 73,
      "outputs": []
    },
    {
      "cell_type": "code",
      "source": [
        "\n",
        "\n",
        "\n",
        "try:\n",
        "  response = requests.get(url)  ##Sending HTTP request to the URL and gathering the result in response\n",
        "  response.raise_for_status()  \n",
        "  soup = bs4.BeautifulSoup(response.text,'lxml') ##Soup object\n",
        "  batters = soup.find_all('tr',class_='data1')\n",
        "  \n",
        "  for batter in batters:\n",
        "    \n",
        "    stats = batter.find_all('td')   #to further drill down into individual components of each row\n",
        "   \n",
        "    name = batter.find('td',class_='left').a.text\n",
        "    matches = batter.find('td',class_='padAst').text\n",
        "    runs = batter.select('td > b')[0].text\n",
        "    \n",
        "    highest_score = stats[6].text\n",
        "    avg = stats[7].text\n",
        "    no_of_centuries = stats[8].text\n",
        "    half_centuries = stats[9].text\n",
        "\n",
        "    sheet.append([name,matches,runs,highest_score,avg,no_of_centuries,half_centuries])\n",
        "\n",
        "except Exception as error:\n",
        "  print(error)"
      ],
      "metadata": {
        "id": "lxeaakcFU1Zq"
      },
      "execution_count": 74,
      "outputs": []
    },
    {
      "cell_type": "code",
      "source": [
        "excel.save('Top Test Batters.xlsx')     ## Saving the Excel file created "
      ],
      "metadata": {
        "id": "_ZlcvRZMVJgD"
      },
      "execution_count": 75,
      "outputs": []
    }
  ]
}